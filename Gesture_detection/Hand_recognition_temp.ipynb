{
 "cells": [
  {
   "cell_type": "markdown",
   "metadata": {},
   "source": [
    "Resources Used\n",
    "- wget.download('https://tensorflow-object-detection-api-tutorial.readthedocs.io/en/latest/_downloads/da4babe668a8afb093cc7776d7e630f3/generate_tfrecord.py')\n",
    "- Setup https://tensorflow-object-detection-api-tutorial.readthedocs.io/en/latest/install.html"
   ]
  },
  {
   "cell_type": "markdown",
   "metadata": {},
   "source": [
    "# 0. Setup Paths"
   ]
  },
  {
   "cell_type": "code",
   "execution_count": 21,
   "metadata": {},
   "outputs": [],
   "source": [
    "WORKSPACE_PATH = 'C:/Users/moon/Documents/posco_ai/codes/RealTimeObjectDetection/Tensorflow/'\n",
    "SCRIPTS_PATH = WORKSPACE_PATH+'scripts'\n",
    "APIMODEL_PATH = WORKSPACE_PATH+'models'\n",
    "ANNOTATION_PATH = WORKSPACE_PATH+'workspace'+'/annotations'\n",
    "IMAGE_PATH = WORKSPACE_PATH+'workspace'+'/images'\n",
    "MODEL_PATH = WORKSPACE_PATH+'workspace'+'/models'\n",
    "PRETRAINED_MODEL_PATH = WORKSPACE_PATH+'workspace'+'/pre-trained-models'\n",
    "CONFIG_PATH = MODEL_PATH+'my_ssd_mobnet/pipeline.config'\n",
    "CHECKPOINT_PATH = MODEL_PATH+'/my_ssd_mobnet/'"
   ]
  },
  {
   "cell_type": "code",
   "execution_count": 22,
   "metadata": {},
   "outputs": [],
   "source": [
    "# WORKSPACE_PATH = 'C:/Users/moon/Documents/posco_ai/codes/RealTimeObjectDetection/Tensorflow/workspace/'\n",
    "# SCRIPTS_PATH = WORKSPACE_PATH + 'scripts'\n",
    "# APIMODEL_PATH = WORKSPACE_PATH + 'models'\n",
    "# ANNOTATION_PATH = WORKSPACE_PATH+'annotations'\n",
    "# IMAGE_PATH = WORKSPACE_PATH+'images'\n",
    "# MODEL_PATH = WORKSPACE_PATH+'models'\n",
    "# PRETRAINED_MODEL_PATH = WORKSPACE_PATH+'pre-trained-models'\n",
    "# CONFIG_PATH = MODEL_PATH+'my_ssd_mobnet/pipeline.config'\n",
    "# CHECKPOINT_PATH = MODEL_PATH+'my_ssd_mobnet/'"
   ]
  },
  {
   "cell_type": "code",
   "execution_count": 23,
   "metadata": {},
   "outputs": [
    {
     "data": {
      "text/plain": [
       "'C:/Users/moon/Documents/posco_ai/codes/RealTimeObjectDetection/Tensorflow/scripts'"
      ]
     },
     "execution_count": 23,
     "metadata": {},
     "output_type": "execute_result"
    }
   ],
   "source": [
    "SCRIPTS_PATH"
   ]
  },
  {
   "cell_type": "code",
   "execution_count": 24,
   "metadata": {},
   "outputs": [
    {
     "data": {
      "text/plain": [
       "'C:/Users/moon/Documents/posco_ai/codes/RealTimeObjectDetection/Tensorflow/workspace/pre-trained-models'"
      ]
     },
     "execution_count": 24,
     "metadata": {},
     "output_type": "execute_result"
    }
   ],
   "source": [
    "PRETRAINED_MODEL_PATH"
   ]
  },
  {
   "cell_type": "markdown",
   "metadata": {},
   "source": [
    "# 1. Create Label Map"
   ]
  },
  {
   "cell_type": "code",
   "execution_count": 25,
   "metadata": {},
   "outputs": [],
   "source": [
    "labels = [\n",
    "    {'name':'question', 'id':1}, \n",
    "    {'name':'one', 'id':2},\n",
    "    {'name':'two', 'id':3},\n",
    "    {'name':'three', 'id':4},\n",
    "    {'name':'four', 'id':5}\n",
    "]\n",
    "\n",
    "with open(ANNOTATION_PATH + '\\label_map.pbtxt', 'w') as f:\n",
    "    for label in labels:\n",
    "        f.write('item { \\n')\n",
    "        f.write('\\tname:\\'{}\\'\\n'.format(label['name']))\n",
    "        f.write('\\tid:{}\\n'.format(label['id']))\n",
    "        f.write('}\\n')"
   ]
  },
  {
   "cell_type": "markdown",
   "metadata": {},
   "source": [
    "# 2. Create TF records"
   ]
  },
  {
   "cell_type": "code",
   "execution_count": 26,
   "metadata": {},
   "outputs": [
    {
     "name": "stdout",
     "output_type": "stream",
     "text": [
      "Successfully created the TFRecord file: C:/Users/moon/Documents/posco_ai/codes/RealTimeObjectDetection/Tensorflow/workspace/annotations/train.record\n",
      "Successfully created the TFRecord file: C:/Users/moon/Documents/posco_ai/codes/RealTimeObjectDetection/Tensorflow/workspace/annotations/test.record\n"
     ]
    }
   ],
   "source": [
    "!python {SCRIPTS_PATH + '/generate_tfrecord.py'} -x {IMAGE_PATH + '/train'} -l {ANNOTATION_PATH + '/label_map.pbtxt'} -o {ANNOTATION_PATH + '/train.record'}\n",
    "!python {SCRIPTS_PATH + '/generate_tfrecord.py'} -x{IMAGE_PATH + '/test'} -l {ANNOTATION_PATH + '/label_map.pbtxt'} -o {ANNOTATION_PATH + '/test.record'}"
   ]
  },
  {
   "cell_type": "markdown",
   "metadata": {},
   "source": [
    "# 3. Download TF Models Pretrained Models from Tensorflow Model Zoo"
   ]
  },
  {
   "cell_type": "code",
   "execution_count": 27,
   "metadata": {},
   "outputs": [
    {
     "name": "stderr",
     "output_type": "stream",
     "text": [
      "fatal: destination path 'models' already exists and is not an empty directory.\n"
     ]
    }
   ],
   "source": [
    "!cd Tensorflow && git clone https://github.com/tensorflow/models"
   ]
  },
  {
   "cell_type": "code",
   "execution_count": 28,
   "metadata": {},
   "outputs": [],
   "source": [
    "# wget.download('http://download.tensorflow.org/models/object_detection/tf2/20200711/ssd_mobilenet_v2_fpnlite_320x320_coco17_tpu-8.tar.gz')\n",
    "# !mv ssd_mobilenet_v2_fpnlite_320x320_coco17_tpu-8.tar.gz {PRETRAINED_MODEL_PATH}\n",
    "# !cd {PRETRAINED_MODEL_PATH} && tar -zxvf ssd_mobilenet_v2_fpnlite_320x320_coco17_tpu-8.tar.gz"
   ]
  },
  {
   "cell_type": "markdown",
   "metadata": {},
   "source": [
    "# 4. Copy Model Config to Training Folder"
   ]
  },
  {
   "cell_type": "code",
   "execution_count": 29,
   "metadata": {},
   "outputs": [
    {
     "data": {
      "text/plain": [
       "'C:/Users/moon/Documents/posco_ai/codes/RealTimeObjectDetection/Tensorflow/workspace/pre-trained-models/ssd_mobilenet_v2_fpnlite_320x320_coco17_tpu-8/pipeline.config'"
      ]
     },
     "execution_count": 29,
     "metadata": {},
     "output_type": "execute_result"
    }
   ],
   "source": [
    "PRETRAINED_MODEL_PATH+'/ssd_mobilenet_v2_fpnlite_320x320_coco17_tpu-8/pipeline.config'"
   ]
  },
  {
   "cell_type": "code",
   "execution_count": 30,
   "metadata": {},
   "outputs": [],
   "source": [
    "CUSTOM_MODEL_NAME = 'my_ssd_mobnet' "
   ]
  },
  {
   "cell_type": "code",
   "execution_count": 31,
   "metadata": {},
   "outputs": [
    {
     "name": "stderr",
     "output_type": "stream",
     "text": [
      "하위 디렉터리 또는 파일 Tensorflow\\workspace\\models\\my_ssd_mobnet이(가) 이미 있습니다.\n"
     ]
    }
   ],
   "source": [
    "!mkdir {'Tensorflow\\workspace\\models\\\\'+CUSTOM_MODEL_NAME}\n",
    "# !cp {PRETRAINED_MODEL_PATH+'/ssd_mobilenet_v2_fpnlite_320x320_coco17_tpu-8/pipeline.config'} {MODEL_PATH+'/'+CUSTOM_MODEL_NAME}\n",
    "# 코드 실행되지않아 드래그앤 드랍으로 복사해주었음."
   ]
  },
  {
   "cell_type": "markdown",
   "metadata": {},
   "source": [
    "# 5. Update Config For Transfer Learning"
   ]
  },
  {
   "cell_type": "code",
   "execution_count": 32,
   "metadata": {},
   "outputs": [],
   "source": [
    "import tensorflow as tf\n",
    "from object_detection.utils import config_util\n",
    "from object_detection.protos import pipeline_pb2\n",
    "from google.protobuf import text_format"
   ]
  },
  {
   "cell_type": "code",
   "execution_count": 33,
   "metadata": {},
   "outputs": [
    {
     "data": {
      "text/plain": [
       "'C:/Users/moon/Documents/posco_ai/codes/RealTimeObjectDetection/Tensorflow/workspace/modelsmy_ssd_mobnet/pipeline.config'"
      ]
     },
     "execution_count": 33,
     "metadata": {},
     "output_type": "execute_result"
    }
   ],
   "source": [
    "CONFIG_PATH"
   ]
  },
  {
   "cell_type": "code",
   "execution_count": 34,
   "metadata": {},
   "outputs": [],
   "source": [
    "CONFIG_PATH = MODEL_PATH+'/'+CUSTOM_MODEL_NAME+'/pipeline.config'"
   ]
  },
  {
   "cell_type": "code",
   "execution_count": 35,
   "metadata": {},
   "outputs": [],
   "source": [
    "config = config_util.get_configs_from_pipeline_file(CONFIG_PATH)"
   ]
  },
  {
   "cell_type": "code",
   "execution_count": 36,
   "metadata": {},
   "outputs": [],
   "source": [
    "pipeline_config = pipeline_pb2.TrainEvalPipelineConfig()\n",
    "with tf.io.gfile.GFile(CONFIG_PATH, \"r\") as f:                                                                                                                                                                                                                     \n",
    "    proto_str = f.read()                                                                                                                                                                                                                                          \n",
    "    text_format.Merge(proto_str, pipeline_config)  "
   ]
  },
  {
   "cell_type": "code",
   "execution_count": 37,
   "metadata": {},
   "outputs": [],
   "source": [
    "pipeline_config.model.ssd.num_classes = 2\n",
    "pipeline_config.train_config.batch_size = 4\n",
    "pipeline_config.train_config.fine_tune_checkpoint = PRETRAINED_MODEL_PATH+'/ssd_mobilenet_v2_fpnlite_320x320_coco17_tpu-8/checkpoint/ckpt-0'\n",
    "pipeline_config.train_config.fine_tune_checkpoint_type = \"detection\"\n",
    "pipeline_config.train_input_reader.label_map_path= ANNOTATION_PATH + '/label_map.pbtxt'\n",
    "pipeline_config.train_input_reader.tf_record_input_reader.input_path[:] = [ANNOTATION_PATH + '/train.record']\n",
    "pipeline_config.eval_input_reader[0].label_map_path = ANNOTATION_PATH + '/label_map.pbtxt'\n",
    "pipeline_config.eval_input_reader[0].tf_record_input_reader.input_path[:] = [ANNOTATION_PATH + '/test.record']"
   ]
  },
  {
   "cell_type": "code",
   "execution_count": 38,
   "metadata": {},
   "outputs": [],
   "source": [
    "config_text = text_format.MessageToString(pipeline_config)                                                                                                                                                                                                        \n",
    "with tf.io.gfile.GFile(CONFIG_PATH, \"wb\") as f:                                                                                                                                                                                                                     \n",
    "    f.write(config_text)   "
   ]
  },
  {
   "cell_type": "markdown",
   "metadata": {},
   "source": [
    "# 6. Train the model"
   ]
  },
  {
   "cell_type": "code",
   "execution_count": 39,
   "metadata": {},
   "outputs": [
    {
     "name": "stdout",
     "output_type": "stream",
     "text": [
      "python C:/Users/moon/Documents/posco_ai/codes/RealTimeObjectDetection/Tensorflow/models/research/object_detection/model_main_tf2.py --model_dir=C:/Users/moon/Documents/posco_ai/codes/RealTimeObjectDetection/Tensorflow/workspace/models/my_ssd_mobnet --pipeline_config_path=C:/Users/moon/Documents/posco_ai/codes/RealTimeObjectDetection/Tensorflow/workspace/models/my_ssd_mobnet/pipeline.config --num_train_steps=10000\n"
     ]
    }
   ],
   "source": [
    "print(\"\"\"python {}/research/object_detection/model_main_tf2.py --model_dir={}/{} --pipeline_config_path={}/{}/pipeline.config --num_train_steps=10000\"\"\".format(APIMODEL_PATH, MODEL_PATH,CUSTOM_MODEL_NAME,MODEL_PATH,CUSTOM_MODEL_NAME))"
   ]
  },
  {
   "cell_type": "markdown",
   "metadata": {},
   "source": [
    "# 7. Load Train Model From Checkpoint"
   ]
  },
  {
   "cell_type": "code",
   "execution_count": 50,
   "metadata": {
    "scrolled": false
   },
   "outputs": [],
   "source": [
    "# !pip install tf_slim"
   ]
  },
  {
   "cell_type": "code",
   "execution_count": 51,
   "metadata": {},
   "outputs": [],
   "source": [
    "# !pip3 install official\n",
    "# !conda install official"
   ]
  },
  {
   "cell_type": "code",
   "execution_count": 52,
   "metadata": {},
   "outputs": [],
   "source": [
    "# !pip install tf-models-official"
   ]
  },
  {
   "cell_type": "code",
   "execution_count": 40,
   "metadata": {},
   "outputs": [],
   "source": [
    "import os\n",
    "from object_detection.utils import label_map_util\n",
    "from object_detection.utils import visualization_utils as viz_utils\n",
    "from object_detection.builders import model_builder"
   ]
  },
  {
   "cell_type": "code",
   "execution_count": 41,
   "metadata": {},
   "outputs": [],
   "source": [
    "# Load pipeline config and build a detection model\n",
    "configs = config_util.get_configs_from_pipeline_file(CONFIG_PATH)\n",
    "detection_model = model_builder.build(model_config=configs['model'], is_training=False)"
   ]
  },
  {
   "cell_type": "code",
   "execution_count": 42,
   "metadata": {},
   "outputs": [],
   "source": [
    "# Restore checkpoint\n",
    "ckpt = tf.compat.v2.train.Checkpoint(model=detection_model)"
   ]
  },
  {
   "cell_type": "code",
   "execution_count": 43,
   "metadata": {},
   "outputs": [
    {
     "data": {
      "text/plain": [
       "'C:/Users/moon/Documents/posco_ai/codes/RealTimeObjectDetection/Tensorflow/workspace/models/my_ssd_mobnet/'"
      ]
     },
     "execution_count": 43,
     "metadata": {},
     "output_type": "execute_result"
    }
   ],
   "source": [
    "CHECKPOINT_PATH"
   ]
  },
  {
   "cell_type": "code",
   "execution_count": 44,
   "metadata": {},
   "outputs": [
    {
     "data": {
      "text/plain": [
       "<object_detection.meta_architectures.ssd_meta_arch.SSDMetaArch at 0x22c52b258c8>"
      ]
     },
     "execution_count": 44,
     "metadata": {},
     "output_type": "execute_result"
    }
   ],
   "source": [
    "detection_model"
   ]
  },
  {
   "cell_type": "code",
   "execution_count": 45,
   "metadata": {
    "scrolled": true
   },
   "outputs": [
    {
     "data": {
      "text/plain": [
       "<tensorflow.python.training.tracking.util.CheckpointLoadStatus at 0x22c52f9e788>"
      ]
     },
     "execution_count": 45,
     "metadata": {},
     "output_type": "execute_result"
    }
   ],
   "source": [
    "ckpt.restore(os.path.join(CHECKPOINT_PATH, 'ckpt-3')).expect_partial()"
   ]
  },
  {
   "cell_type": "code",
   "execution_count": 46,
   "metadata": {},
   "outputs": [],
   "source": [
    "@tf.function\n",
    "def detect_fn(image):\n",
    "    image, shapes = detection_model.preprocess(image)\n",
    "    prediction_dict = detection_model.predict(image, shapes)\n",
    "    detections = detection_model.postprocess(prediction_dict, shapes)\n",
    "    return detections"
   ]
  },
  {
   "cell_type": "markdown",
   "metadata": {},
   "source": [
    "# 8. Detect in Real-Time"
   ]
  },
  {
   "cell_type": "code",
   "execution_count": 47,
   "metadata": {},
   "outputs": [],
   "source": [
    "import cv2 \n",
    "import numpy as np"
   ]
  },
  {
   "cell_type": "code",
   "execution_count": 48,
   "metadata": {},
   "outputs": [],
   "source": [
    "category_index = label_map_util.create_category_index_from_labelmap(ANNOTATION_PATH+'/label_map.pbtxt')"
   ]
  },
  {
   "cell_type": "code",
   "execution_count": 49,
   "metadata": {},
   "outputs": [],
   "source": [
    "# cap.release()"
   ]
  },
  {
   "cell_type": "code",
   "execution_count": 50,
   "metadata": {},
   "outputs": [],
   "source": [
    "# Setup capture\n",
    "cap = cv2.VideoCapture(0)\n",
    "width = int(cap.get(cv2.CAP_PROP_FRAME_WIDTH))\n",
    "height = int(cap.get(cv2.CAP_PROP_FRAME_HEIGHT))"
   ]
  },
  {
   "cell_type": "code",
   "execution_count": 51,
   "metadata": {},
   "outputs": [
    {
     "ename": "KeyboardInterrupt",
     "evalue": "",
     "output_type": "error",
     "traceback": [
      "\u001b[1;31m---------------------------------------------------------------------------\u001b[0m",
      "\u001b[1;31mKeyboardInterrupt\u001b[0m                         Traceback (most recent call last)",
      "\u001b[1;32m<ipython-input-51-3a5cc6a8923f>\u001b[0m in \u001b[0;36m<module>\u001b[1;34m\u001b[0m\n\u001b[0;32m      4\u001b[0m \u001b[1;33m\u001b[0m\u001b[0m\n\u001b[0;32m      5\u001b[0m     \u001b[0minput_tensor\u001b[0m \u001b[1;33m=\u001b[0m \u001b[0mtf\u001b[0m\u001b[1;33m.\u001b[0m\u001b[0mconvert_to_tensor\u001b[0m\u001b[1;33m(\u001b[0m\u001b[0mnp\u001b[0m\u001b[1;33m.\u001b[0m\u001b[0mexpand_dims\u001b[0m\u001b[1;33m(\u001b[0m\u001b[0mimage_np\u001b[0m\u001b[1;33m,\u001b[0m \u001b[1;36m0\u001b[0m\u001b[1;33m)\u001b[0m\u001b[1;33m,\u001b[0m \u001b[0mdtype\u001b[0m\u001b[1;33m=\u001b[0m\u001b[0mtf\u001b[0m\u001b[1;33m.\u001b[0m\u001b[0mfloat32\u001b[0m\u001b[1;33m)\u001b[0m\u001b[1;33m\u001b[0m\u001b[1;33m\u001b[0m\u001b[0m\n\u001b[1;32m----> 6\u001b[1;33m     \u001b[0mdetections\u001b[0m \u001b[1;33m=\u001b[0m \u001b[0mdetect_fn\u001b[0m\u001b[1;33m(\u001b[0m\u001b[0minput_tensor\u001b[0m\u001b[1;33m)\u001b[0m\u001b[1;33m\u001b[0m\u001b[1;33m\u001b[0m\u001b[0m\n\u001b[0m\u001b[0;32m      7\u001b[0m \u001b[1;33m\u001b[0m\u001b[0m\n\u001b[0;32m      8\u001b[0m     \u001b[0mnum_detections\u001b[0m \u001b[1;33m=\u001b[0m \u001b[0mint\u001b[0m\u001b[1;33m(\u001b[0m\u001b[0mdetections\u001b[0m\u001b[1;33m.\u001b[0m\u001b[0mpop\u001b[0m\u001b[1;33m(\u001b[0m\u001b[1;34m'num_detections'\u001b[0m\u001b[1;33m)\u001b[0m\u001b[1;33m)\u001b[0m\u001b[1;33m\u001b[0m\u001b[1;33m\u001b[0m\u001b[0m\n",
      "\u001b[1;32mc:\\users\\moon\\anaconda3\\envs\\pj2\\lib\\site-packages\\tensorflow\\python\\eager\\def_function.py\u001b[0m in \u001b[0;36m__call__\u001b[1;34m(self, *args, **kwds)\u001b[0m\n\u001b[0;32m    778\u001b[0m       \u001b[1;32melse\u001b[0m\u001b[1;33m:\u001b[0m\u001b[1;33m\u001b[0m\u001b[1;33m\u001b[0m\u001b[0m\n\u001b[0;32m    779\u001b[0m         \u001b[0mcompiler\u001b[0m \u001b[1;33m=\u001b[0m \u001b[1;34m\"nonXla\"\u001b[0m\u001b[1;33m\u001b[0m\u001b[1;33m\u001b[0m\u001b[0m\n\u001b[1;32m--> 780\u001b[1;33m         \u001b[0mresult\u001b[0m \u001b[1;33m=\u001b[0m \u001b[0mself\u001b[0m\u001b[1;33m.\u001b[0m\u001b[0m_call\u001b[0m\u001b[1;33m(\u001b[0m\u001b[1;33m*\u001b[0m\u001b[0margs\u001b[0m\u001b[1;33m,\u001b[0m \u001b[1;33m**\u001b[0m\u001b[0mkwds\u001b[0m\u001b[1;33m)\u001b[0m\u001b[1;33m\u001b[0m\u001b[1;33m\u001b[0m\u001b[0m\n\u001b[0m\u001b[0;32m    781\u001b[0m \u001b[1;33m\u001b[0m\u001b[0m\n\u001b[0;32m    782\u001b[0m       \u001b[0mnew_tracing_count\u001b[0m \u001b[1;33m=\u001b[0m \u001b[0mself\u001b[0m\u001b[1;33m.\u001b[0m\u001b[0m_get_tracing_count\u001b[0m\u001b[1;33m(\u001b[0m\u001b[1;33m)\u001b[0m\u001b[1;33m\u001b[0m\u001b[1;33m\u001b[0m\u001b[0m\n",
      "\u001b[1;32mc:\\users\\moon\\anaconda3\\envs\\pj2\\lib\\site-packages\\tensorflow\\python\\eager\\def_function.py\u001b[0m in \u001b[0;36m_call\u001b[1;34m(self, *args, **kwds)\u001b[0m\n\u001b[0;32m    805\u001b[0m       \u001b[1;31m# In this case we have created variables on the first call, so we run the\u001b[0m\u001b[1;33m\u001b[0m\u001b[1;33m\u001b[0m\u001b[1;33m\u001b[0m\u001b[0m\n\u001b[0;32m    806\u001b[0m       \u001b[1;31m# defunned version which is guaranteed to never create variables.\u001b[0m\u001b[1;33m\u001b[0m\u001b[1;33m\u001b[0m\u001b[1;33m\u001b[0m\u001b[0m\n\u001b[1;32m--> 807\u001b[1;33m       \u001b[1;32mreturn\u001b[0m \u001b[0mself\u001b[0m\u001b[1;33m.\u001b[0m\u001b[0m_stateless_fn\u001b[0m\u001b[1;33m(\u001b[0m\u001b[1;33m*\u001b[0m\u001b[0margs\u001b[0m\u001b[1;33m,\u001b[0m \u001b[1;33m**\u001b[0m\u001b[0mkwds\u001b[0m\u001b[1;33m)\u001b[0m  \u001b[1;31m# pylint: disable=not-callable\u001b[0m\u001b[1;33m\u001b[0m\u001b[1;33m\u001b[0m\u001b[0m\n\u001b[0m\u001b[0;32m    808\u001b[0m     \u001b[1;32melif\u001b[0m \u001b[0mself\u001b[0m\u001b[1;33m.\u001b[0m\u001b[0m_stateful_fn\u001b[0m \u001b[1;32mis\u001b[0m \u001b[1;32mnot\u001b[0m \u001b[1;32mNone\u001b[0m\u001b[1;33m:\u001b[0m\u001b[1;33m\u001b[0m\u001b[1;33m\u001b[0m\u001b[0m\n\u001b[0;32m    809\u001b[0m       \u001b[1;31m# Release the lock early so that multiple threads can perform the call\u001b[0m\u001b[1;33m\u001b[0m\u001b[1;33m\u001b[0m\u001b[1;33m\u001b[0m\u001b[0m\n",
      "\u001b[1;32mc:\\users\\moon\\anaconda3\\envs\\pj2\\lib\\site-packages\\tensorflow\\python\\eager\\function.py\u001b[0m in \u001b[0;36m__call__\u001b[1;34m(self, *args, **kwargs)\u001b[0m\n\u001b[0;32m   2827\u001b[0m     \u001b[1;32mwith\u001b[0m \u001b[0mself\u001b[0m\u001b[1;33m.\u001b[0m\u001b[0m_lock\u001b[0m\u001b[1;33m:\u001b[0m\u001b[1;33m\u001b[0m\u001b[1;33m\u001b[0m\u001b[0m\n\u001b[0;32m   2828\u001b[0m       \u001b[0mgraph_function\u001b[0m\u001b[1;33m,\u001b[0m \u001b[0margs\u001b[0m\u001b[1;33m,\u001b[0m \u001b[0mkwargs\u001b[0m \u001b[1;33m=\u001b[0m \u001b[0mself\u001b[0m\u001b[1;33m.\u001b[0m\u001b[0m_maybe_define_function\u001b[0m\u001b[1;33m(\u001b[0m\u001b[0margs\u001b[0m\u001b[1;33m,\u001b[0m \u001b[0mkwargs\u001b[0m\u001b[1;33m)\u001b[0m\u001b[1;33m\u001b[0m\u001b[1;33m\u001b[0m\u001b[0m\n\u001b[1;32m-> 2829\u001b[1;33m     \u001b[1;32mreturn\u001b[0m \u001b[0mgraph_function\u001b[0m\u001b[1;33m.\u001b[0m\u001b[0m_filtered_call\u001b[0m\u001b[1;33m(\u001b[0m\u001b[0margs\u001b[0m\u001b[1;33m,\u001b[0m \u001b[0mkwargs\u001b[0m\u001b[1;33m)\u001b[0m  \u001b[1;31m# pylint: disable=protected-access\u001b[0m\u001b[1;33m\u001b[0m\u001b[1;33m\u001b[0m\u001b[0m\n\u001b[0m\u001b[0;32m   2830\u001b[0m \u001b[1;33m\u001b[0m\u001b[0m\n\u001b[0;32m   2831\u001b[0m   \u001b[1;33m@\u001b[0m\u001b[0mproperty\u001b[0m\u001b[1;33m\u001b[0m\u001b[1;33m\u001b[0m\u001b[0m\n",
      "\u001b[1;32mc:\\users\\moon\\anaconda3\\envs\\pj2\\lib\\site-packages\\tensorflow\\python\\eager\\function.py\u001b[0m in \u001b[0;36m_filtered_call\u001b[1;34m(self, args, kwargs, cancellation_manager)\u001b[0m\n\u001b[0;32m   1846\u001b[0m                            resource_variable_ops.BaseResourceVariable))],\n\u001b[0;32m   1847\u001b[0m         \u001b[0mcaptured_inputs\u001b[0m\u001b[1;33m=\u001b[0m\u001b[0mself\u001b[0m\u001b[1;33m.\u001b[0m\u001b[0mcaptured_inputs\u001b[0m\u001b[1;33m,\u001b[0m\u001b[1;33m\u001b[0m\u001b[1;33m\u001b[0m\u001b[0m\n\u001b[1;32m-> 1848\u001b[1;33m         cancellation_manager=cancellation_manager)\n\u001b[0m\u001b[0;32m   1849\u001b[0m \u001b[1;33m\u001b[0m\u001b[0m\n\u001b[0;32m   1850\u001b[0m   \u001b[1;32mdef\u001b[0m \u001b[0m_call_flat\u001b[0m\u001b[1;33m(\u001b[0m\u001b[0mself\u001b[0m\u001b[1;33m,\u001b[0m \u001b[0margs\u001b[0m\u001b[1;33m,\u001b[0m \u001b[0mcaptured_inputs\u001b[0m\u001b[1;33m,\u001b[0m \u001b[0mcancellation_manager\u001b[0m\u001b[1;33m=\u001b[0m\u001b[1;32mNone\u001b[0m\u001b[1;33m)\u001b[0m\u001b[1;33m:\u001b[0m\u001b[1;33m\u001b[0m\u001b[1;33m\u001b[0m\u001b[0m\n",
      "\u001b[1;32mc:\\users\\moon\\anaconda3\\envs\\pj2\\lib\\site-packages\\tensorflow\\python\\eager\\function.py\u001b[0m in \u001b[0;36m_call_flat\u001b[1;34m(self, args, captured_inputs, cancellation_manager)\u001b[0m\n\u001b[0;32m   1922\u001b[0m       \u001b[1;31m# No tape is watching; skip to running the function.\u001b[0m\u001b[1;33m\u001b[0m\u001b[1;33m\u001b[0m\u001b[1;33m\u001b[0m\u001b[0m\n\u001b[0;32m   1923\u001b[0m       return self._build_call_outputs(self._inference_function.call(\n\u001b[1;32m-> 1924\u001b[1;33m           ctx, args, cancellation_manager=cancellation_manager))\n\u001b[0m\u001b[0;32m   1925\u001b[0m     forward_backward = self._select_forward_and_backward_functions(\n\u001b[0;32m   1926\u001b[0m         \u001b[0margs\u001b[0m\u001b[1;33m,\u001b[0m\u001b[1;33m\u001b[0m\u001b[1;33m\u001b[0m\u001b[0m\n",
      "\u001b[1;32mc:\\users\\moon\\anaconda3\\envs\\pj2\\lib\\site-packages\\tensorflow\\python\\eager\\function.py\u001b[0m in \u001b[0;36mcall\u001b[1;34m(self, ctx, args, cancellation_manager)\u001b[0m\n\u001b[0;32m    548\u001b[0m               \u001b[0minputs\u001b[0m\u001b[1;33m=\u001b[0m\u001b[0margs\u001b[0m\u001b[1;33m,\u001b[0m\u001b[1;33m\u001b[0m\u001b[1;33m\u001b[0m\u001b[0m\n\u001b[0;32m    549\u001b[0m               \u001b[0mattrs\u001b[0m\u001b[1;33m=\u001b[0m\u001b[0mattrs\u001b[0m\u001b[1;33m,\u001b[0m\u001b[1;33m\u001b[0m\u001b[1;33m\u001b[0m\u001b[0m\n\u001b[1;32m--> 550\u001b[1;33m               ctx=ctx)\n\u001b[0m\u001b[0;32m    551\u001b[0m         \u001b[1;32melse\u001b[0m\u001b[1;33m:\u001b[0m\u001b[1;33m\u001b[0m\u001b[1;33m\u001b[0m\u001b[0m\n\u001b[0;32m    552\u001b[0m           outputs = execute.execute_with_cancellation(\n",
      "\u001b[1;32mc:\\users\\moon\\anaconda3\\envs\\pj2\\lib\\site-packages\\tensorflow\\python\\eager\\execute.py\u001b[0m in \u001b[0;36mquick_execute\u001b[1;34m(op_name, num_outputs, inputs, attrs, ctx, name)\u001b[0m\n\u001b[0;32m     58\u001b[0m     \u001b[0mctx\u001b[0m\u001b[1;33m.\u001b[0m\u001b[0mensure_initialized\u001b[0m\u001b[1;33m(\u001b[0m\u001b[1;33m)\u001b[0m\u001b[1;33m\u001b[0m\u001b[1;33m\u001b[0m\u001b[0m\n\u001b[0;32m     59\u001b[0m     tensors = pywrap_tfe.TFE_Py_Execute(ctx._handle, device_name, op_name,\n\u001b[1;32m---> 60\u001b[1;33m                                         inputs, attrs, num_outputs)\n\u001b[0m\u001b[0;32m     61\u001b[0m   \u001b[1;32mexcept\u001b[0m \u001b[0mcore\u001b[0m\u001b[1;33m.\u001b[0m\u001b[0m_NotOkStatusException\u001b[0m \u001b[1;32mas\u001b[0m \u001b[0me\u001b[0m\u001b[1;33m:\u001b[0m\u001b[1;33m\u001b[0m\u001b[1;33m\u001b[0m\u001b[0m\n\u001b[0;32m     62\u001b[0m     \u001b[1;32mif\u001b[0m \u001b[0mname\u001b[0m \u001b[1;32mis\u001b[0m \u001b[1;32mnot\u001b[0m \u001b[1;32mNone\u001b[0m\u001b[1;33m:\u001b[0m\u001b[1;33m\u001b[0m\u001b[1;33m\u001b[0m\u001b[0m\n",
      "\u001b[1;31mKeyboardInterrupt\u001b[0m: "
     ]
    }
   ],
   "source": [
    "while True: \n",
    "    ret, frame = cap.read()\n",
    "    image_np = np.array(frame)\n",
    "    \n",
    "    input_tensor = tf.convert_to_tensor(np.expand_dims(image_np, 0), dtype=tf.float32)\n",
    "    detections = detect_fn(input_tensor)\n",
    "    \n",
    "    num_detections = int(detections.pop('num_detections'))\n",
    "    detections = {key: value[0, :num_detections].numpy()\n",
    "                  for key, value in detections.items()}\n",
    "    detections['num_detections'] = num_detections\n",
    "\n",
    "    # detection_classes should be ints.\n",
    "    detections['detection_classes'] = detections['detection_classes'].astype(np.int64)\n",
    "\n",
    "    label_id_offset = 1\n",
    "    image_np_with_detections = image_np.copy()\n",
    "\n",
    "    viz_utils.visualize_boxes_and_labels_on_image_array(\n",
    "                image_np_with_detections,\n",
    "                detections['detection_boxes'],\n",
    "                detections['detection_classes']+label_id_offset,\n",
    "                detections['detection_scores'],\n",
    "                category_index,\n",
    "                use_normalized_coordinates=True,\n",
    "                max_boxes_to_draw=5,\n",
    "                min_score_thresh=.5,\n",
    "                agnostic_mode=False)\n",
    "\n",
    "    cv2.imshow('object detection',  cv2.resize(image_np_with_detections, (800, 600)))\n",
    "    \n",
    "    if cv2.waitKey(1) & 0xFF == ord('q'):\n",
    "        cap.release()\n",
    "        break"
   ]
  },
  {
   "cell_type": "code",
   "execution_count": 73,
   "metadata": {},
   "outputs": [],
   "source": [
    "detections = detect_fn(input_tensor)"
   ]
  },
  {
   "cell_type": "code",
   "execution_count": 74,
   "metadata": {},
   "outputs": [
    {
     "data": {
      "text/plain": [
       "{'detection_boxes': <tf.Tensor: shape=(1, 100, 4), dtype=float32, numpy=\n",
       " array([[[0.00000000e+00, 4.38601971e-01, 9.75114107e-01, 1.00000000e+00],\n",
       "         [2.67330289e-01, 5.59339285e-01, 9.55487132e-01, 1.00000000e+00],\n",
       "         [0.00000000e+00, 4.33669120e-01, 6.49884641e-01, 9.89339471e-01],\n",
       "         [0.00000000e+00, 4.49796081e-01, 1.00000000e+00, 1.00000000e+00],\n",
       "         [0.00000000e+00, 4.49861735e-01, 7.16423631e-01, 9.96961594e-01],\n",
       "         [0.00000000e+00, 3.21225107e-01, 9.24297512e-01, 1.00000000e+00],\n",
       "         [5.83111346e-01, 4.59903479e-02, 1.00000000e+00, 4.84664440e-01],\n",
       "         [7.46262968e-02, 8.17295313e-02, 8.33453536e-01, 1.00000000e+00],\n",
       "         [4.16998744e-01, 5.29147148e-01, 1.00000000e+00, 1.00000000e+00],\n",
       "         [5.53414762e-01, 6.90213919e-01, 9.88784254e-01, 1.00000000e+00],\n",
       "         [5.84233820e-01, 0.00000000e+00, 9.75010693e-01, 1.99658021e-01],\n",
       "         [0.00000000e+00, 2.47317851e-02, 8.31789851e-01, 4.23049062e-01],\n",
       "         [3.53768408e-01, 5.65804243e-01, 9.98016179e-01, 1.00000000e+00],\n",
       "         [0.00000000e+00, 4.76524383e-01, 1.00000000e+00, 1.00000000e+00],\n",
       "         [4.69314069e-01, 0.00000000e+00, 9.96580243e-01, 4.17003572e-01],\n",
       "         [7.32381344e-02, 2.22893149e-01, 1.00000000e+00, 9.79005456e-01],\n",
       "         [0.00000000e+00, 2.68057212e-02, 5.80392122e-01, 2.61269987e-01],\n",
       "         [0.00000000e+00, 5.83961606e-01, 8.49690020e-01, 9.81500864e-01],\n",
       "         [6.16184294e-01, 1.30753666e-01, 1.00000000e+00, 5.07885575e-01],\n",
       "         [6.23687685e-01, 0.00000000e+00, 1.00000000e+00, 3.66958112e-01],\n",
       "         [4.84944075e-01, 4.83368427e-01, 1.00000000e+00, 9.87705350e-01],\n",
       "         [0.00000000e+00, 2.61032909e-01, 8.91072154e-01, 9.04034019e-01],\n",
       "         [6.51678801e-01, 0.00000000e+00, 1.00000000e+00, 4.02070284e-01],\n",
       "         [5.75115144e-01, 1.57994330e-01, 9.75309074e-01, 3.93698394e-01],\n",
       "         [5.54981053e-01, 3.69843066e-01, 9.74726617e-01, 5.82842231e-01],\n",
       "         [5.87068200e-01, 0.00000000e+00, 1.00000000e+00, 3.16506237e-01],\n",
       "         [6.87574029e-01, 5.11479825e-02, 1.00000000e+00, 4.50042486e-01],\n",
       "         [2.16000438e-01, 5.51044941e-04, 9.66953874e-01, 4.77448672e-01],\n",
       "         [7.23299503e-01, 0.00000000e+00, 1.00000000e+00, 2.62551546e-01],\n",
       "         [6.06432498e-01, 6.95559382e-01, 9.95211780e-01, 1.00000000e+00],\n",
       "         [0.00000000e+00, 0.00000000e+00, 1.00000000e+00, 7.27671444e-01],\n",
       "         [0.00000000e+00, 5.64015687e-01, 5.58711052e-01, 1.00000000e+00],\n",
       "         [7.69117773e-01, 0.00000000e+00, 1.00000000e+00, 2.14379504e-01],\n",
       "         [0.00000000e+00, 0.00000000e+00, 6.20500803e-01, 3.57167184e-01],\n",
       "         [0.00000000e+00, 5.56888878e-01, 7.86409199e-01, 1.00000000e+00],\n",
       "         [6.90192997e-01, 1.42423838e-01, 1.00000000e+00, 5.29346585e-01],\n",
       "         [0.00000000e+00, 4.08206820e-01, 5.55490494e-01, 8.90477896e-01],\n",
       "         [6.23687685e-01, 0.00000000e+00, 1.00000000e+00, 3.66958112e-01],\n",
       "         [0.00000000e+00, 6.98276460e-02, 6.42389894e-01, 5.15617013e-01],\n",
       "         [6.33687794e-01, 5.67261696e-01, 1.00000000e+00, 9.69254255e-01],\n",
       "         [2.66728401e-01, 6.03522062e-02, 1.00000000e+00, 1.00000000e+00],\n",
       "         [5.93699753e-01, 6.26652479e-01, 8.47868860e-01, 1.00000000e+00],\n",
       "         [5.09262264e-01, 7.38150239e-01, 7.42814243e-01, 1.00000000e+00],\n",
       "         [0.00000000e+00, 3.21843103e-02, 5.57945132e-01, 2.56884813e-01],\n",
       "         [1.81257486e-01, 4.16743219e-01, 7.64545321e-01, 1.00000000e+00],\n",
       "         [4.77111340e-03, 1.26685441e-01, 4.77777183e-01, 3.63255680e-01],\n",
       "         [1.04016200e-01, 0.00000000e+00, 3.61828566e-01, 3.41181934e-01],\n",
       "         [1.81257486e-01, 4.16743219e-01, 7.64545321e-01, 1.00000000e+00],\n",
       "         [7.35565066e-01, 0.00000000e+00, 1.00000000e+00, 5.22260129e-01],\n",
       "         [6.61095440e-01, 0.00000000e+00, 9.84802544e-01, 2.21927702e-01],\n",
       "         [5.48728824e-01, 6.64362311e-03, 9.71990943e-01, 6.53288364e-01],\n",
       "         [2.71746635e-01, 3.54446203e-01, 1.00000000e+00, 1.00000000e+00],\n",
       "         [7.08053827e-01, 1.40742436e-01, 1.00000000e+00, 4.13141727e-01],\n",
       "         [7.16781497e-01, 0.00000000e+00, 1.00000000e+00, 2.24122316e-01],\n",
       "         [0.00000000e+00, 0.00000000e+00, 6.20500803e-01, 3.57167184e-01],\n",
       "         [0.00000000e+00, 5.64015687e-01, 5.58711052e-01, 1.00000000e+00],\n",
       "         [6.72706008e-01, 5.39567053e-01, 9.91793752e-01, 8.25134933e-01],\n",
       "         [7.79854953e-01, 5.74927628e-02, 1.00000000e+00, 3.12295765e-01],\n",
       "         [4.12593782e-01, 7.40425527e-01, 6.56057775e-01, 1.00000000e+00],\n",
       "         [5.22178888e-01, 5.66581011e-01, 9.76289988e-01, 8.24608922e-01],\n",
       "         [5.81853747e-01, 2.12898329e-01, 1.00000000e+00, 6.39724374e-01],\n",
       "         [5.15825450e-01, 6.42193973e-01, 7.52009928e-01, 1.00000000e+00],\n",
       "         [0.00000000e+00, 0.00000000e+00, 3.87549102e-01, 2.17199117e-01],\n",
       "         [7.91247070e-01, 1.30363196e-01, 1.00000000e+00, 3.35907429e-01],\n",
       "         [6.49279654e-01, 0.00000000e+00, 1.00000000e+00, 4.35213000e-01],\n",
       "         [3.11645031e-01, 7.16413975e-01, 5.70419788e-01, 1.00000000e+00],\n",
       "         [6.84112608e-01, 7.17506409e-01, 1.00000000e+00, 1.00000000e+00],\n",
       "         [3.72446120e-01, 9.75938886e-03, 6.68034732e-01, 1.45949095e-01],\n",
       "         [7.62199402e-01, 5.55733323e-01, 1.00000000e+00, 8.14997554e-01],\n",
       "         [2.26477534e-02, 7.24646449e-01, 5.01116574e-01, 9.64951038e-01],\n",
       "         [6.12110555e-01, 2.38415852e-01, 1.00000000e+00, 5.95312297e-01],\n",
       "         [7.08913207e-01, 3.05996478e-01, 1.00000000e+00, 5.71058929e-01],\n",
       "         [7.08053827e-01, 1.40742436e-01, 1.00000000e+00, 4.13141727e-01],\n",
       "         [0.00000000e+00, 6.91742897e-02, 5.74602306e-01, 1.00000000e+00],\n",
       "         [7.00882912e-01, 3.45749140e-01, 1.00000000e+00, 6.00922048e-01],\n",
       "         [4.12366539e-01, 7.06642151e-01, 9.68056321e-01, 1.00000000e+00],\n",
       "         [3.26908708e-01, 9.49609727e-02, 9.44011569e-01, 4.15794015e-01],\n",
       "         [0.00000000e+00, 2.25248113e-02, 2.97861129e-01, 2.48037487e-01],\n",
       "         [3.80180776e-02, 4.17547941e-01, 3.26315939e-01, 7.76716232e-01],\n",
       "         [4.89044607e-01, 1.76706731e-01, 9.01646435e-01, 3.79879594e-01],\n",
       "         [6.24764264e-01, 6.43533826e-01, 1.00000000e+00, 1.00000000e+00],\n",
       "         [2.09391862e-01, 7.01897562e-01, 4.77176815e-01, 1.00000000e+00],\n",
       "         [5.52558303e-02, 1.09955460e-01, 9.41016257e-01, 5.29035687e-01],\n",
       "         [6.51678801e-01, 0.00000000e+00, 1.00000000e+00, 4.02070284e-01],\n",
       "         [5.31828761e-01, 0.00000000e+00, 9.47376847e-01, 1.87875465e-01],\n",
       "         [7.32381344e-02, 2.22893149e-01, 1.00000000e+00, 9.79005456e-01],\n",
       "         [7.95952022e-01, 7.68484950e-01, 9.30370152e-01, 1.00000000e+00],\n",
       "         [6.01540804e-01, 7.17660487e-01, 8.38340640e-01, 1.00000000e+00],\n",
       "         [0.00000000e+00, 6.34356380e-01, 6.77832246e-01, 1.00000000e+00],\n",
       "         [0.00000000e+00, 0.00000000e+00, 7.57708371e-01, 3.04653287e-01],\n",
       "         [3.21866930e-01, 4.03416336e-01, 6.05811357e-01, 5.48161626e-01],\n",
       "         [6.83411241e-01, 6.40958488e-01, 9.52023745e-01, 1.00000000e+00],\n",
       "         [6.70360267e-01, 3.16196680e-02, 9.82387006e-01, 3.16445857e-01],\n",
       "         [6.74501508e-02, 6.84515089e-02, 4.54109073e-01, 1.98924765e-01],\n",
       "         [6.26128688e-02, 0.00000000e+00, 3.09080720e-01, 2.84681946e-01],\n",
       "         [0.00000000e+00, 0.00000000e+00, 7.57708371e-01, 3.04653287e-01],\n",
       "         [0.00000000e+00, 6.98276460e-02, 6.42389894e-01, 5.15617013e-01],\n",
       "         [1.07903704e-01, 6.92572951e-01, 3.82954299e-01, 1.00000000e+00],\n",
       "         [3.55249882e-01, 1.81232139e-01, 9.46531653e-01, 4.83648121e-01],\n",
       "         [8.15251052e-01, 6.48737699e-03, 1.00000000e+00, 2.48585582e-01]]],\n",
       "       dtype=float32)>,\n",
       " 'detection_scores': <tf.Tensor: shape=(1, 100), dtype=float32, numpy=\n",
       " array([[0.46193922, 0.1683006 , 0.15754795, 0.14380324, 0.10964614,\n",
       "         0.08451098, 0.08362356, 0.05880311, 0.05840868, 0.05508715,\n",
       "         0.05256364, 0.05253029, 0.05222696, 0.05054873, 0.05050293,\n",
       "         0.04687396, 0.04325706, 0.04295838, 0.04207692, 0.04189181,\n",
       "         0.04177514, 0.04162115, 0.03791809, 0.03671071, 0.03451267,\n",
       "         0.03346685, 0.03255266, 0.03156835, 0.03048247, 0.03023732,\n",
       "         0.02979174, 0.02967766, 0.02866405, 0.02802756, 0.02701494,\n",
       "         0.02657607, 0.02602223, 0.0259915 , 0.025152  , 0.0249638 ,\n",
       "         0.02480763, 0.02480555, 0.02444184, 0.02419922, 0.02418521,\n",
       "         0.02398825, 0.02359068, 0.0234037 , 0.02269101, 0.02266181,\n",
       "         0.02247623, 0.02163696, 0.02156886, 0.02150458, 0.02113512,\n",
       "         0.02097118, 0.02095959, 0.02090204, 0.02076587, 0.02063122,\n",
       "         0.0204576 , 0.02005368, 0.02001375, 0.01982176, 0.0197098 ,\n",
       "         0.01947722, 0.01939958, 0.01939264, 0.01937538, 0.01934591,\n",
       "         0.01911512, 0.01904517, 0.01898497, 0.01897052, 0.01896033,\n",
       "         0.01878864, 0.01867783, 0.01850128, 0.0183526 , 0.01832265,\n",
       "         0.018213  , 0.0181925 , 0.01818597, 0.01801807, 0.01796207,\n",
       "         0.01791197, 0.0178974 , 0.01745182, 0.01741779, 0.01734638,\n",
       "         0.01732951, 0.01724187, 0.01713562, 0.0170857 , 0.01679835,\n",
       "         0.01679605, 0.01656866, 0.01641339, 0.01634929, 0.01632756]],\n",
       "       dtype=float32)>,\n",
       " 'detection_classes': <tf.Tensor: shape=(1, 100), dtype=float32, numpy=\n",
       " array([[0., 0., 0., 1., 1., 0., 0., 0., 0., 1., 1., 1., 1., 0., 0., 0.,\n",
       "         1., 0., 1., 0., 0., 0., 0., 1., 1., 0., 1., 0., 0., 0., 0., 0.,\n",
       "         0., 1., 0., 0., 1., 1., 1., 0., 0., 1., 0., 0., 0., 1., 1., 1.,\n",
       "         0., 0., 0., 0., 0., 1., 0., 1., 0., 0., 0., 1., 0., 1., 1., 0.,\n",
       "         0., 0., 1., 0., 0., 1., 1., 0., 1., 0., 1., 0., 0., 1., 1., 1.,\n",
       "         1., 0., 1., 1., 0., 1., 1., 0., 0., 1., 0., 1., 0., 0., 1., 0.,\n",
       "         0., 0., 0., 0.]], dtype=float32)>,\n",
       " 'num_detections': <tf.Tensor: shape=(1,), dtype=float32, numpy=array([100.], dtype=float32)>,\n",
       " 'raw_detection_boxes': <tf.Tensor: shape=(1, 12804, 4), dtype=float32, numpy=\n",
       " array([[[-0.0445131 , -0.03227122,  0.07243984,  0.0586153 ],\n",
       "         [-0.06562556, -0.04350962,  0.09657979,  0.07326673],\n",
       "         [-0.02345991, -0.05956119,  0.0468886 ,  0.08205607],\n",
       "         ...,\n",
       "         [-0.07623744, -0.7386487 ,  1.6874392 ,  2.3135142 ],\n",
       "         [-0.533226  ,  0.23573816,  1.9166625 ,  1.3378028 ],\n",
       "         [-0.92175734,  0.00945169,  2.306798  ,  1.5756447 ]]],\n",
       "       dtype=float32)>,\n",
       " 'raw_detection_scores': <tf.Tensor: shape=(1, 12804, 3), dtype=float32, numpy=\n",
       " array([[[0.00766894, 0.0071083 , 0.00868809],\n",
       "         [0.00837648, 0.00699061, 0.00793332],\n",
       "         [0.00771424, 0.00841287, 0.00764439],\n",
       "         ...,\n",
       "         [0.00852847, 0.00753003, 0.00912601],\n",
       "         [0.00832972, 0.00810209, 0.00720841],\n",
       "         [0.00762972, 0.00802979, 0.00943696]]], dtype=float32)>,\n",
       " 'detection_multiclass_scores': <tf.Tensor: shape=(1, 100, 3), dtype=float32, numpy=\n",
       " array([[[0.00309449, 0.46193922, 0.03757775],\n",
       "         [0.00640482, 0.1683006 , 0.00518745],\n",
       "         [0.0067223 , 0.15754795, 0.0518268 ],\n",
       "         [0.00770772, 0.32903108, 0.14380324],\n",
       "         [0.00561991, 0.15528786, 0.10964614],\n",
       "         [0.0070506 , 0.08451098, 0.01759654],\n",
       "         [0.00792411, 0.08362356, 0.02620628],\n",
       "         [0.00530198, 0.05880311, 0.01113525],\n",
       "         [0.0021641 , 0.05840868, 0.01423246],\n",
       "         [0.00643   , 0.02037379, 0.05508715],\n",
       "         [0.00840482, 0.01958776, 0.05256364],\n",
       "         [0.00772613, 0.01261267, 0.05253029],\n",
       "         [0.0079571 , 0.13895589, 0.05222696],\n",
       "         [0.01244062, 0.05054873, 0.0161024 ],\n",
       "         [0.00913045, 0.05050293, 0.00984049],\n",
       "         [0.00553674, 0.04687396, 0.01791197],\n",
       "         [0.00843742, 0.02086341, 0.04325706],\n",
       "         [0.00839266, 0.04295838, 0.00315467],\n",
       "         [0.00473273, 0.05112183, 0.04207692],\n",
       "         [0.00566956, 0.04189181, 0.0259915 ],\n",
       "         [0.0042116 , 0.04177514, 0.01132426],\n",
       "         [0.00653094, 0.04162115, 0.00655633],\n",
       "         [0.00685817, 0.03791809, 0.01801807],\n",
       "         [0.00743741, 0.01054752, 0.03671071],\n",
       "         [0.00651684, 0.01181957, 0.03451267],\n",
       "         [0.00673571, 0.03346685, 0.01385957],\n",
       "         [0.00504369, 0.03278261, 0.03255266],\n",
       "         [0.01036301, 0.03156835, 0.00777826],\n",
       "         [0.00957757, 0.03048247, 0.0162009 ],\n",
       "         [0.00642151, 0.03023732, 0.05197856],\n",
       "         [0.00613743, 0.02979174, 0.01547664],\n",
       "         [0.00439093, 0.02967766, 0.02097118],\n",
       "         [0.00788182, 0.02866405, 0.01567879],\n",
       "         [0.00705796, 0.02113512, 0.02802756],\n",
       "         [0.00589755, 0.02701494, 0.0071432 ],\n",
       "         [0.00504336, 0.02657607, 0.02808478],\n",
       "         [0.00493732, 0.02408388, 0.02602223],\n",
       "         [0.00566956, 0.04189181, 0.0259915 ],\n",
       "         [0.00571394, 0.01656866, 0.025152  ],\n",
       "         [0.00464749, 0.0249638 , 0.01485479],\n",
       "         [0.00727013, 0.02480763, 0.01004276],\n",
       "         [0.00832814, 0.01079521, 0.02480555],\n",
       "         [0.0072003 , 0.02444184, 0.01361045],\n",
       "         [0.00976506, 0.02419922, 0.04144737],\n",
       "         [0.00221238, 0.02418521, 0.0234037 ],\n",
       "         [0.00564829, 0.00904942, 0.02398825],\n",
       "         [0.00946909, 0.00469512, 0.02359068],\n",
       "         [0.00221238, 0.02418521, 0.0234037 ],\n",
       "         [0.0079847 , 0.02269101, 0.00989267],\n",
       "         [0.00694534, 0.02266181, 0.02359217],\n",
       "         [0.00632754, 0.02247623, 0.00714988],\n",
       "         [0.0059419 , 0.02163696, 0.01022631],\n",
       "         [0.00945941, 0.02156886, 0.01898497],\n",
       "         [0.00867265, 0.02995166, 0.02150458],\n",
       "         [0.00705796, 0.02113512, 0.02802756],\n",
       "         [0.00439093, 0.02967766, 0.02097118],\n",
       "         [0.00796068, 0.02095959, 0.01373219],\n",
       "         [0.00666761, 0.02090204, 0.01090005],\n",
       "         [0.00790209, 0.02076587, 0.01072344],\n",
       "         [0.00741407, 0.00721377, 0.02063122],\n",
       "         [0.00628078, 0.0204576 , 0.01435792],\n",
       "         [0.00860989, 0.01461735, 0.02005368],\n",
       "         [0.00907326, 0.01380146, 0.02001375],\n",
       "         [0.00657138, 0.01982176, 0.01328444],\n",
       "         [0.00772151, 0.0197098 , 0.00802669],\n",
       "         [0.00886703, 0.01947722, 0.00939286],\n",
       "         [0.00555742, 0.02164096, 0.01939958],\n",
       "         [0.00659066, 0.01939264, 0.00774267],\n",
       "         [0.00687045, 0.01937538, 0.00923973],\n",
       "         [0.00546452, 0.00807407, 0.01934591],\n",
       "         [0.00690004, 0.01886517, 0.01911512],\n",
       "         [0.00883147, 0.01904517, 0.01506978],\n",
       "         [0.00945941, 0.02156886, 0.01898497],\n",
       "         [0.00797963, 0.01897052, 0.0067212 ],\n",
       "         [0.00922272, 0.01822713, 0.01896033],\n",
       "         [0.01452678, 0.01878864, 0.01244316],\n",
       "         [0.00833282, 0.01867783, 0.00655925],\n",
       "         [0.007779  , 0.01215586, 0.01850128],\n",
       "         [0.00844568, 0.0029074 , 0.0183526 ],\n",
       "         [0.00657123, 0.0103853 , 0.01832265],\n",
       "         [0.00418833, 0.02548313, 0.018213  ],\n",
       "         [0.00971326, 0.0181925 , 0.00951135],\n",
       "         [0.00627679, 0.01375344, 0.01818597],\n",
       "         [0.00685817, 0.03791809, 0.01801807],\n",
       "         [0.00815144, 0.01796207, 0.02766868],\n",
       "         [0.00553674, 0.04687396, 0.01791197],\n",
       "         [0.00554794, 0.01260388, 0.0178974 ],\n",
       "         [0.00707021, 0.01745182, 0.01605564],\n",
       "         [0.00637534, 0.01741779, 0.00932023],\n",
       "         [0.00996745, 0.01679605, 0.01734638],\n",
       "         [0.00653717, 0.01732951, 0.0125092 ],\n",
       "         [0.00760919, 0.00466877, 0.01724187],\n",
       "         [0.00711748, 0.01713562, 0.00784937],\n",
       "         [0.00432953, 0.0170857 , 0.00814494],\n",
       "         [0.01080287, 0.00611812, 0.01679835],\n",
       "         [0.00996745, 0.01679605, 0.01734638],\n",
       "         [0.00571394, 0.01656866, 0.025152  ],\n",
       "         [0.00998345, 0.01641339, 0.00921217],\n",
       "         [0.00623575, 0.01634929, 0.00966454],\n",
       "         [0.00772578, 0.01632756, 0.01045805]]], dtype=float32)>,\n",
       " 'detection_anchor_indices': <tf.Tensor: shape=(1, 100), dtype=int32, numpy=\n",
       " array([[12682, 12472, 12103, 12287, 12157, 12623, 12493, 12681, 12465,\n",
       "         11623, 11411, 12197, 12533, 12719, 12427, 12703,  9977, 12282,\n",
       "         12498, 12486, 12517, 12646, 12547, 11435, 11459, 12481, 12552,\n",
       "         12373, 11653, 11743, 12667, 12053, 11767, 12071, 12628, 12558,\n",
       "         12091, 12486, 12139, 12582, 12711, 12470, 12416, 10097, 12285,\n",
       "         10115, 10095, 12285, 12549, 11527, 12441, 12738, 11671, 11647,\n",
       "         12071, 12053, 11719, 11779, 12356, 11483, 12505, 12410,  9731,\n",
       "         11784, 12483, 12296, 11863, 10810, 11839, 10187, 12504, 11689,\n",
       "         11671, 12621, 11695, 12474, 12376,  9617, 10029, 11195, 12588,\n",
       "         12236, 12323, 12547, 11291, 12703, 11744, 12476, 12175, 12185,\n",
       "         10738, 12530, 11539, 10216,  9969, 12185, 12139, 12176, 12382,\n",
       "         11893]])>}"
      ]
     },
     "execution_count": 74,
     "metadata": {},
     "output_type": "execute_result"
    }
   ],
   "source": [
    "detections"
   ]
  },
  {
   "cell_type": "code",
   "execution_count": null,
   "metadata": {},
   "outputs": [],
   "source": []
  }
 ],
 "metadata": {
  "hide_input": false,
  "kernelspec": {
   "display_name": "Python 3",
   "language": "python",
   "name": "python3"
  },
  "language_info": {
   "codemirror_mode": {
    "name": "ipython",
    "version": 3
   },
   "file_extension": ".py",
   "mimetype": "text/x-python",
   "name": "python",
   "nbconvert_exporter": "python",
   "pygments_lexer": "ipython3",
   "version": "3.7.6"
  }
 },
 "nbformat": 4,
 "nbformat_minor": 2
}
